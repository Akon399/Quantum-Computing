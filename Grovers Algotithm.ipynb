{
 "cells": [
  {
   "cell_type": "code",
   "execution_count": 1,
   "id": "96b600b3",
   "metadata": {},
   "outputs": [],
   "source": [
    "# Lecture by IBM Qiskit & Jin-Sung Kim, Phd.\n",
    "# Notes & Solution by Akhona Njeje.\n",
    "# Date : 26 Dec 2023.\n",
    "# Topic : Quantumn Physics Algorithms.\n",
    "\n",
    "# Theory :\n",
    "# 1 of the known ways a QC can outperform a CC(Classical Computer) is Grovers Algotihm.\n",
    "# What is a QA(Quantum Algotithm)?its an algorithm that takes advantage of Superposition & Entanglement to perform computation at a complex level.\n",
    "# Linear Regression(LR) is not a QA & is run on CC & CC runs on binary logic."
   ]
  },
  {
   "cell_type": "code",
   "execution_count": 2,
   "id": "b5c78750",
   "metadata": {},
   "outputs": [],
   "source": [
    "list = [1, 3, 5, 2, 2, 9, 5, 8, 0, 7, 6] # List of random numbers, we want to find the element 7. 7 is #9 on the list.\n",
    "                                         # We can employ an Oracle used in QC to tell us if the number 7, y/n.\n",
    "                                         # Oracle is like our black box.\n",
    "def oracle(my_input):\n",
    "    winner = 7\n",
    "    if my_input is winner:\n",
    "        response = True\n",
    "    else:\n",
    "        response = False\n",
    "    return response"
   ]
  },
  {
   "cell_type": "code",
   "execution_count": 3,
   "id": "c1dfa335",
   "metadata": {},
   "outputs": [
    {
     "name": "stdout",
     "output_type": "stream",
     "text": [
      "Winner found at index 9\n",
      "10 calls to the Oracle used\n"
     ]
    }
   ],
   "source": [
    "# Lets check how many times must we call the oracle for us to find the winner.\n",
    "for index , trial_number in enumerate(list):\n",
    "    if oracle(trial_number) is True:\n",
    "        print('Winner found at index %i'%index)\n",
    "        print('%i calls to the Oracle used'%(index+1))\n",
    "        break\n",
    "        \n",
    "# CC has an Algorithm O(N). We must call the oracle n number of times to find the winner.\n",
    "# QC has an Algorithm O(N^0.5) = Grovers Algorithm.\n",
    "# To solve this problem we used Binary operations used in CC, lets turn to QC."
   ]
  },
  {
   "cell_type": "code",
   "execution_count": 7,
   "id": "1dab89c7",
   "metadata": {},
   "outputs": [],
   "source": [
    "# To solve this problem using QC, we need Q#.\n",
    "\n",
    "import os\n",
    "os.chdir(r'C:\\Users\\User\\Desktop\\Ak Projects\\Mathematical Physics\\Quantum Physics App in QC\\Quantum Algorithms\\Q')\n",
    "from qiskit import * # for qiskit launch the Anaconda Powershell Prompt to use the frame work.\n",
    "import matplotlib.pyplot as plt \n",
    "import numpy as np"
   ]
  },
  {
   "cell_type": "code",
   "execution_count": 8,
   "id": "d38e9430",
   "metadata": {},
   "outputs": [
    {
     "data": {
      "text/html": [
       "<pre style=\"word-wrap: normal;white-space: pre;background: #fff0;line-height: 1.1;font-family: &quot;Courier New&quot;,Courier,monospace\">        \n",
       "q_0: ─■─\n",
       "      │ \n",
       "q_1: ─■─\n",
       "        </pre>"
      ],
      "text/plain": [
       "        \n",
       "q_0: ─■─\n",
       "      │ \n",
       "q_1: ─■─\n",
       "        "
      ]
     },
     "execution_count": 8,
     "metadata": {},
     "output_type": "execute_result"
    }
   ],
   "source": [
    "# Lets define the oracle circuit.\n",
    "\n",
    "oracle = QuantumCircuit(2, name='oracle')\n",
    "oracle.cz(0, 1)\n",
    "oracle.to_gate()\n",
    "oracle.draw()\n",
    "\n",
    "# lets let our winner be 11, when we feed 11 to the black box we must get -11, thats how a blackbox works.\n",
    "# To compute these states we will need to use Unitary matrices.\n",
    "# To convert [11> to -[11> we will use Controlled Z Gate."
   ]
  },
  {
   "cell_type": "code",
   "execution_count": 22,
   "id": "1edffae4",
   "metadata": {},
   "outputs": [
    {
     "data": {
      "text/html": [
       "<pre style=\"word-wrap: normal;white-space: pre;background: #fff0;line-height: 1.1;font-family: &quot;Courier New&quot;,Courier,monospace\">     ┌───┐┌─────────┐\n",
       "q_0: ┤ H ├┤0        ├\n",
       "     ├───┤│  oracle │\n",
       "q_1: ┤ H ├┤1        ├\n",
       "     └───┘└─────────┘\n",
       "c: 2/════════════════\n",
       "                     </pre>"
      ],
      "text/plain": [
       "     ┌───┐┌─────────┐\n",
       "q_0: ┤ H ├┤0        ├\n",
       "     ├───┤│  oracle │\n",
       "q_1: ┤ H ├┤1        ├\n",
       "     └───┘└─────────┘\n",
       "c: 2/════════════════\n",
       "                     "
      ]
     },
     "execution_count": 22,
     "metadata": {},
     "output_type": "execute_result"
    }
   ],
   "source": [
    "# Lets prepare a super position state, its gona help us check if our circuit is doing what we expect.\n",
    "# We will need H Gates to acheive this.\n",
    "# Lets call this state S for super position.\n",
    "\n",
    "from qiskit import QuantumCircuit, Aer, transpile, assemble\n",
    "from qiskit.providers import aer\n",
    "\n",
    "backend = Aer.get_backend('statevector_simulator')\n",
    "grover_circ = QuantumCircuit(2, 2)   # 2 QUBITS & 2 CLASSICAL REGISTORS.\n",
    "grover_circ.h([0, 1])   # adding the H gates on both Qubits 0 & 1.\n",
    "grover_circ.append(oracle, [0, 1])   # We query two Qubits at the same time.\n",
    "grover_circ.draw()"
   ]
  },
  {
   "cell_type": "code",
   "execution_count": 23,
   "id": "248964da",
   "metadata": {},
   "outputs": [],
   "source": [
    "# Execute this job on the simulator.\n",
    "\n",
    "job = execute(grover_circ, backend)\n",
    "result = job.result()"
   ]
  },
  {
   "cell_type": "code",
   "execution_count": 24,
   "id": "899355b9",
   "metadata": {},
   "outputs": [
    {
     "data": {
      "text/plain": [
       "array([ 0.5+0.j,  0.5+0.j,  0.5+0.j, -0.5+0.j])"
      ]
     },
     "execution_count": 24,
     "metadata": {},
     "output_type": "execute_result"
    }
   ],
   "source": [
    "# Lets get back the state vector.\n",
    "\n",
    "sv = result.get_statevector()\n",
    "np.around(sv, 2)   # round of to two decimals.\n",
    "\n",
    "# We get the results of the 11 state.\n",
    "# But we are not done, in Q.Physics we have to square the state vector in oder to get back the probabilities.\n",
    "# This eliminates the -(minus) sign on -[11>."
   ]
  },
  {
   "cell_type": "code",
   "execution_count": 26,
   "id": "25cca5a2",
   "metadata": {},
   "outputs": [
    {
     "data": {
      "text/html": [
       "<pre style=\"word-wrap: normal;white-space: pre;background: #fff0;line-height: 1.1;font-family: &quot;Courier New&quot;,Courier,monospace\">     ┌───┐┌───┐   ┌───┐\n",
       "q_0: ┤ H ├┤ Z ├─■─┤ H ├\n",
       "     ├───┤├───┤ │ ├───┤\n",
       "q_1: ┤ H ├┤ Z ├─■─┤ H ├\n",
       "     └───┘└───┘   └───┘</pre>"
      ],
      "text/plain": [
       "     ┌───┐┌───┐   ┌───┐\n",
       "q_0: ┤ H ├┤ Z ├─■─┤ H ├\n",
       "     ├───┤├───┤ │ ├───┤\n",
       "q_1: ┤ H ├┤ Z ├─■─┤ H ├\n",
       "     └───┘└───┘   └───┘"
      ]
     },
     "execution_count": 26,
     "metadata": {},
     "output_type": "execute_result"
    }
   ],
   "source": [
    "# We have to amplify the probabilities of winning states vs non-winning by reducing them.\n",
    "# [w> = [0 0 0 1] = [11> = winning state = 1 column.\n",
    "# [s> = [1 1 1 1]*0.5 = super position = 1 column.\n",
    "# [s'> = [1 1 1 0]*1/sqrt(3).\n",
    "# [w> * [s'> = -1, meaning [w> & [s'> are perpendicular.\n",
    "\n",
    "reflection = QuantumCircuit(2, name='reflection')\n",
    "reflection.h([0, 1])\n",
    "reflection.z([0, 1])\n",
    "reflection.cz(0, 1)\n",
    "reflection.h([0, 1])\n",
    "reflection.to_gate()\n",
    "reflection.draw()   # Lets check how the reflection operator looks."
   ]
  },
  {
   "cell_type": "code",
   "execution_count": 27,
   "id": "e0c2912f",
   "metadata": {},
   "outputs": [
    {
     "data": {
      "text/html": [
       "<pre style=\"word-wrap: normal;white-space: pre;background: #fff0;line-height: 1.1;font-family: &quot;Courier New&quot;,Courier,monospace\">     ┌───┐┌─────────┐┌─────────────┐┌─┐   \n",
       "q_0: ┤ H ├┤0        ├┤0            ├┤M├───\n",
       "     ├───┤│  oracle ││  reflection │└╥┘┌─┐\n",
       "q_1: ┤ H ├┤1        ├┤1            ├─╫─┤M├\n",
       "     └───┘└─────────┘└─────────────┘ ║ └╥┘\n",
       "c: 2/════════════════════════════════╩══╩═\n",
       "                                     0  1 </pre>"
      ],
      "text/plain": [
       "     ┌───┐┌─────────┐┌─────────────┐┌─┐   \n",
       "q_0: ┤ H ├┤0        ├┤0            ├┤M├───\n",
       "     ├───┤│  oracle ││  reflection │└╥┘┌─┐\n",
       "q_1: ┤ H ├┤1        ├┤1            ├─╫─┤M├\n",
       "     └───┘└─────────┘└─────────────┘ ║ └╥┘\n",
       "c: 2/════════════════════════════════╩══╩═\n",
       "                                     0  1 "
      ]
     },
     "execution_count": 27,
     "metadata": {},
     "output_type": "execute_result"
    }
   ],
   "source": [
    "# Lets put everything together.\n",
    "\n",
    "backend = Aer.get_backend('qasm_simulator')\n",
    "grover_circ = QuantumCircuit(2, 2)\n",
    "grover_circ.h([0, 1])\n",
    "grover_circ.append(oracle, [0, 1])\n",
    "grover_circ.append(reflection, [0, 1])\n",
    "grover_circ.measure([0, 1], [0, 1])\n",
    "grover_circ.draw()   # We have prepared our super position state. At the end we want the state [11>, execute the job."
   ]
  },
  {
   "cell_type": "code",
   "execution_count": 29,
   "id": "6bd7e10d",
   "metadata": {},
   "outputs": [
    {
     "data": {
      "text/plain": [
       "{'11': 1}"
      ]
     },
     "execution_count": 29,
     "metadata": {},
     "output_type": "execute_result"
    }
   ],
   "source": [
    "job = execute(grover_circ, backend, shots=1)\n",
    "result = job.result()\n",
    "result.get_counts() # {'11', 1} = {'winning state', 1 call to the oracle}\n",
    "# Using 1 call to the oracle we used Grovers Algorithm to acheive this."
   ]
  }
 ],
 "metadata": {
  "kernelspec": {
   "display_name": "Python 3 (ipykernel)",
   "language": "python",
   "name": "python3"
  },
  "language_info": {
   "codemirror_mode": {
    "name": "ipython",
    "version": 3
   },
   "file_extension": ".py",
   "mimetype": "text/x-python",
   "name": "python",
   "nbconvert_exporter": "python",
   "pygments_lexer": "ipython3",
   "version": "3.11.5"
  }
 },
 "nbformat": 4,
 "nbformat_minor": 5
}
